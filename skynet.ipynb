{
 "cells": [
  {
   "cell_type": "code",
   "execution_count": null,
   "metadata": {
    "urth": {
     "dashboard": {
      "hidden": true,
      "layout": {}
     }
    }
   },
   "outputs": [],
   "source": [
    "import sys\n",
    "path = ''\n",
    "sys.path.append(path)\n",
    "import skynet.main\n",
    "import skynet.ais.basic_random\n",
    "import skynet.ais.basic\n",
    "import logging\n",
    "import holoviews\n",
    "import functools\n",
    "holoviews.notebook_extension()\n",
    "holoviews.extension('bokeh')\n",
    "logger = logging.getLogger()\n",
    "logging.basicConfig()\n",
    "logger.setLevel(logging.ERROR)"
   ]
  },
  {
   "cell_type": "code",
   "execution_count": null,
   "metadata": {
    "urth": {
     "dashboard": {
      "hidden": true,
      "layout": {}
     }
    }
   },
   "outputs": [],
   "source": [
    "networks = [skynet.main.Network(str(i), skynet.ais.basic_random.BasicRandomNetwork) for i in range(3)]\n",
    "networks += [skynet.main.Network(str(i+3), skynet.ais.basic.BasicNetwork) for i in range(2)]\n",
    "game = skynet.main.Game(networks)"
   ]
  },
  {
   "cell_type": "code",
   "execution_count": null,
   "metadata": {},
   "outputs": [],
   "source": [
    "import holoviews.streams\n",
    "pipe = holoviews.streams.Pipe(data=[])\n",
    "pipe2 = holoviews.streams.Pipe(data=game.board.get_field_stat_table())\n",
    "pipe3 = holoviews.streams.Buffer(game.get_global_stats_buffer(), 1000000, index=False)\n",
    "\n",
    "network_map = game.get_network_map(pipe=pipe)\n",
    "field_map = game.get_field_map(pipe=pipe2)\n",
    "stats_grid = game.get_stats_grid(pipe=pipe3)"
   ]
  },
  {
   "cell_type": "code",
   "execution_count": null,
   "metadata": {},
   "outputs": [],
   "source": [
    "%%opts HeatMap [height=500 width=500 tools=['hover'] toolbar='above' colorbar=True show_title=True] (cmap='tab10')\n",
    "network_map"
   ]
  },
  {
   "cell_type": "code",
   "execution_count": null,
   "metadata": {
    "scrolled": false
   },
   "outputs": [],
   "source": [
    "%%opts HeatMap [height=380 width=380 tools=['hover'] toolbar='above' colorbar=False show_title=True] (cmap='inferno')\n",
    "field_map"
   ]
  },
  {
   "cell_type": "code",
   "execution_count": null,
   "metadata": {
    "scrolled": false
   },
   "outputs": [],
   "source": [
    "%%opts Curve [height=380 width=380 tools=['hover'] toolbar='above' show_title=True] (color=Cycle(values=['blue', 'orange', 'green', 'red', 'purple', 'brown', 'pink', 'grey']))\n",
    "stats_grid"
   ]
  },
  {
   "cell_type": "code",
   "execution_count": null,
   "metadata": {},
   "outputs": [],
   "source": [
    "while True:\n",
    "    game.do_turn()\n",
    "    pipe.send(game.board.get_networks_table())\n",
    "    pipe2.send(game.board.get_field_stat_table())\n",
    "    pipe3.send(game.get_global_stats_buffer())"
   ]
  },
  {
   "cell_type": "code",
   "execution_count": null,
   "metadata": {},
   "outputs": [],
   "source": []
  }
 ],
 "metadata": {
  "kernelspec": {
   "display_name": "Python 3",
   "language": "python",
   "name": "python3"
  },
  "language_info": {
   "codemirror_mode": {
    "name": "ipython",
    "version": 3
   },
   "file_extension": ".py",
   "mimetype": "text/x-python",
   "name": "python",
   "nbconvert_exporter": "python",
   "pygments_lexer": "ipython3",
   "version": "3.6.3"
  },
  "urth": {
   "dashboard": {
    "cellMargin": 10,
    "defaultCellHeight": 20,
    "layout": "grid",
    "maxColumns": 12
   }
  }
 },
 "nbformat": 4,
 "nbformat_minor": 2
}
